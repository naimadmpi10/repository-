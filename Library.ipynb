{
  "nbformat": 4,
  "nbformat_minor": 0,
  "metadata": {
    "colab": {
      "provenance": [],
      "authorship_tag": "ABX9TyODSNzckLJZVzLNzWe9rlSr",
      "include_colab_link": true
    },
    "kernelspec": {
      "name": "python3",
      "display_name": "Python 3"
    },
    "language_info": {
      "name": "python"
    }
  },
  "cells": [
    {
      "cell_type": "markdown",
      "metadata": {
        "id": "view-in-github",
        "colab_type": "text"
      },
      "source": [
        "<a href=\"https://colab.research.google.com/github/naimadmpi10/repository-/blob/main/Library.ipynb\" target=\"_parent\"><img src=\"https://colab.research.google.com/assets/colab-badge.svg\" alt=\"Open In Colab\"/></a>"
      ]
    },
    {
      "cell_type": "code",
      "execution_count": 1,
      "metadata": {
        "colab": {
          "base_uri": "https://localhost:8080/"
        },
        "id": "4iDs9-8s9VNc",
        "outputId": "80e25eba-6a38-4abb-b8e5-b7661cd5a107"
      },
      "outputs": [
        {
          "output_type": "stream",
          "name": "stdout",
          "text": [
            "Writing my_text_utils.py\n"
          ]
        }
      ],
      "source": [
        "# Step 1: নিজের লাইব্রেরি তৈরি করি\n",
        "%%writefile my_text_utils.py\n",
        "\n",
        "import re\n",
        "\n",
        "def clean_text(text)c:\n",
        "    \"\"\"স্পেশাল ক্যারেক্টার বাদ দিয়ে টেক্সট ক্লিন করে\"\"\"\n",
        "    return re.sub(r'[^A-Za-z0-9\\s]', '', text)\n",
        "\n",
        "def reverse_text(text):\n",
        "    \"\"\"টেক্সট উল্টো করে\"\"\"\n",
        "    return text[::-1]\n",
        "\n",
        "def word_count(text):\n",
        "    \"\"\"শব্দ সংখ্যা গুনে দেয়\"\"\"\n",
        "    return len(text.split())"
      ]
    },
    {
      "cell_type": "code",
      "source": [
        "# Step 2: লাইব্রেরি ইমপোর্ট করে ব্যবহার করো\n",
        "import my_text_utils as mt\n",
        "\n",
        "text = \"Hello, World! AI is amazing.\"\n",
        "\n",
        "cleaned = mt.clean_text(text)\n",
        "reversed_text = mt.reverse_text(text)\n",
        "count = mt.word_count(text)\n",
        "\n",
        "print(\"মূল টেক্সট:\", text)\n",
        "print(\"ক্লিন করা টেক্সট:\", cleaned)\n",
        "print(\"উল্টো টেক্সট:\", reversed_text)\n",
        "print(\"শব্দ সংখ্যা:\", count)"
      ],
      "metadata": {
        "colab": {
          "base_uri": "https://localhost:8080/"
        },
        "id": "mYfoTWnJ96xM",
        "outputId": "49fde822-8b3a-4145-f029-1773ac34af6b"
      },
      "execution_count": 2,
      "outputs": [
        {
          "output_type": "stream",
          "name": "stdout",
          "text": [
            "মূল টেক্সট: Hello, World! AI is amazing.\n",
            "ক্লিন করা টেক্সট: Hello World AI is amazing\n",
            "উল্টো টেক্সট: .gnizama si IA !dlroW ,olleH\n",
            "শব্দ সংখ্যা: 5\n"
          ]
        }
      ]
    },
    {
      "cell_type": "code",
      "source": [
        "import re\n",
        "\n",
        "text = \"AI is changing the world fast!\"\n",
        "# এখানে কোড লেখো: words = ?\n",
        "import re\n",
        "\n",
        "text = \"AI is changing the world fast!\"\n",
        "# এখানে কোড লেখো: words = ?\n",
        "\n",
        "words=re.findall(r'\\b\\w+\\b', text)\n",
        "print(words)  # Output: ['AI', 'is', 'changing', 'the', 'world', 'fast']"
      ],
      "metadata": {
        "colab": {
          "base_uri": "https://localhost:8080/"
        },
        "id": "ErvX161y_Ufi",
        "outputId": "bc2f295c-c7b5-4215-a746-af91a46535d5"
      },
      "execution_count": 5,
      "outputs": [
        {
          "output_type": "stream",
          "name": "stdout",
          "text": [
            "['AI', 'is', 'changing', 'the', 'world', 'fast']\n"
          ]
        }
      ]
    },
    {
      "cell_type": "code",
      "source": [
        "\n",
        "import re\n",
        "\n",
        "email = \"user_123@example.com\"\n",
        "# এখানে কোড লেখো\n",
        "\n",
        "if re.fullmatch(r'\\S+@\\S+\\.\\S+', email):\n",
        "    print(\"Valid email address\")\n",
        "else:\n",
        "    print(\"Invalid email address\")"
      ],
      "metadata": {
        "colab": {
          "base_uri": "https://localhost:8080/"
        },
        "id": "-ibwQu4nBB3-",
        "outputId": "38f71061-5468-4316-f8ff-490c59ae74a1"
      },
      "execution_count": 9,
      "outputs": [
        {
          "output_type": "stream",
          "name": "stdout",
          "text": [
            "Valid email address\n"
          ]
        }
      ]
    },
    {
      "cell_type": "code",
      "source": [
        "import re\n",
        "\n",
        "text = \"Hello!!! Welcome to AI-World, 2025 :)\"\n",
        "# এখানে কোড লেখো: cleaned = ?\n",
        "cleaned=re.sub(r'[^A-Za-z0-9\\s]', '', text)\n",
        "print(cleaned)  # Output: Hello Welcome to AIWorld 2025"
      ],
      "metadata": {
        "colab": {
          "base_uri": "https://localhost:8080/"
        },
        "id": "J6orbHMgCFG5",
        "outputId": "c2fd8fd5-716a-42f7-ccef-3748393f72be"
      },
      "execution_count": 10,
      "outputs": [
        {
          "output_type": "stream",
          "name": "stdout",
          "text": [
            "Hello Welcome to AIWorld 2025 \n"
          ]
        }
      ]
    },
    {
      "cell_type": "code",
      "source": [
        "\n",
        "# Create setup.py file\n",
        "setup_code = \"\"\"\n",
        "from setuptools import setup, find_packages\n",
        "\n",
        "setup(\n",
        "    name='my_text_utils',  # আপনার প্রজেক্টের নাম\n",
        "    version='0.1',      # আপনার প্রজেক্টের সংস্করণ\n",
        "    packages=find_packages(),  # প্যাকেজ খুঁজে বের করে\n",
        "    install_requires=[     # ডিপেনডেন্সি প্যাকেজসমূহ\n",
        "        'numpy',  # উদাহরণস্বরূপ numpy লাইব্রেরি\n",
        "        'pandas', # উদাহরণস্বরূপ pandas লাইব্রেরি\n",
        "\n",
        "    ],\n",
        ")\n",
        "\"\"\"\n",
        "\n",
        "with open('setup.py', 'w') as f:\n",
        "    f.write(setup_code)"
      ],
      "metadata": {
        "id": "1aNaFrgKDg1z"
      },
      "execution_count": 12,
      "outputs": []
    },
    {
      "cell_type": "code",
      "source": [
        "# Create README.md file\n",
        "with open('README.md', 'w') as f:\n",
        "    f.write('# My Project\\n\\nThis is a simple project to demonstrate creating files in Google Colab.')"
      ],
      "metadata": {
        "id": "-D3GBr7aIgyG"
      },
      "execution_count": 13,
      "outputs": []
    },
    {
      "cell_type": "code",
      "source": [
        "# Create requirements.txt file\n",
        "with open('requirements.txt', 'w') as f:\n",
        "    f.write('numpy==1.23.0\\npandas==1.4.0\\nrequests==2.26.0')"
      ],
      "metadata": {
        "id": "FRug1MfdIuMD"
      },
      "execution_count": 14,
      "outputs": []
    },
    {
      "cell_type": "code",
      "source": [
        "!pip install ."
      ],
      "metadata": {
        "colab": {
          "base_uri": "https://localhost:8080/"
        },
        "id": "NobV_GjbJASX",
        "outputId": "64d9f0fc-23f6-4a28-dd7f-1e88e4dc36c7"
      },
      "execution_count": 15,
      "outputs": [
        {
          "output_type": "stream",
          "name": "stdout",
          "text": [
            "Processing /content\n",
            "  Preparing metadata (setup.py) ... \u001b[?25l\u001b[?25hdone\n",
            "Requirement already satisfied: numpy in /usr/local/lib/python3.11/dist-packages (from my_text_utils==0.1) (2.0.2)\n",
            "Requirement already satisfied: pandas in /usr/local/lib/python3.11/dist-packages (from my_text_utils==0.1) (2.2.2)\n",
            "Requirement already satisfied: python-dateutil>=2.8.2 in /usr/local/lib/python3.11/dist-packages (from pandas->my_text_utils==0.1) (2.8.2)\n",
            "Requirement already satisfied: pytz>=2020.1 in /usr/local/lib/python3.11/dist-packages (from pandas->my_text_utils==0.1) (2025.2)\n",
            "Requirement already satisfied: tzdata>=2022.7 in /usr/local/lib/python3.11/dist-packages (from pandas->my_text_utils==0.1) (2025.2)\n",
            "Requirement already satisfied: six>=1.5 in /usr/local/lib/python3.11/dist-packages (from python-dateutil>=2.8.2->pandas->my_text_utils==0.1) (1.17.0)\n",
            "Building wheels for collected packages: my_text_utils\n",
            "  Building wheel for my_text_utils (setup.py) ... \u001b[?25l\u001b[?25hdone\n",
            "  Created wheel for my_text_utils: filename=my_text_utils-0.1-py3-none-any.whl size=994 sha256=cbb71d392a1e8762d4fadf4f5124e39132c9eda9811569b06352caa52c6d9827\n",
            "  Stored in directory: /tmp/pip-ephem-wheel-cache-pm3h9p4c/wheels/01/d1/e4/ca90c6fac4331f6da6de5353843d0b67505c2bbc8768ac296e\n",
            "Successfully built my_text_utils\n",
            "Installing collected packages: my_text_utils\n",
            "Successfully installed my_text_utils-0.1\n"
          ]
        }
      ]
    },
    {
      "cell_type": "code",
      "source": [
        "!pip install my_text_utils"
      ],
      "metadata": {
        "colab": {
          "base_uri": "https://localhost:8080/"
        },
        "id": "sBt_uCwKJE1X",
        "outputId": "7150d540-e72c-47d1-b8de-b162bc9ffcc0"
      },
      "execution_count": 17,
      "outputs": [
        {
          "output_type": "stream",
          "name": "stdout",
          "text": [
            "Requirement already satisfied: my_text_utils in /usr/local/lib/python3.11/dist-packages (0.1)\n",
            "Requirement already satisfied: numpy in /usr/local/lib/python3.11/dist-packages (from my_text_utils) (2.0.2)\n",
            "Requirement already satisfied: pandas in /usr/local/lib/python3.11/dist-packages (from my_text_utils) (2.2.2)\n",
            "Requirement already satisfied: python-dateutil>=2.8.2 in /usr/local/lib/python3.11/dist-packages (from pandas->my_text_utils) (2.8.2)\n",
            "Requirement already satisfied: pytz>=2020.1 in /usr/local/lib/python3.11/dist-packages (from pandas->my_text_utils) (2025.2)\n",
            "Requirement already satisfied: tzdata>=2022.7 in /usr/local/lib/python3.11/dist-packages (from pandas->my_text_utils) (2025.2)\n",
            "Requirement already satisfied: six>=1.5 in /usr/local/lib/python3.11/dist-packages (from python-dateutil>=2.8.2->pandas->my_text_utils) (1.17.0)\n"
          ]
        }
      ]
    },
    {
      "cell_type": "code",
      "source": [
        "# my_text_utils লাইব্রেরি ইম্পোর্ট করা\n",
        "import my_text_utils\n",
        "\n",
        "# উদাহরণস্বরূপ, clean_text ফাংশন ব্যবহার করা\n",
        "cleaned_text = my_text_utils.clean_text(\"This is some text that ,needs cleaning!\")\n",
        "print(cleaned_text)"
      ],
      "metadata": {
        "colab": {
          "base_uri": "https://localhost:8080/"
        },
        "id": "peIkTdR4LibB",
        "outputId": "9dcca0e4-afbb-487e-86ff-34435e36b592"
      },
      "execution_count": 20,
      "outputs": [
        {
          "output_type": "stream",
          "name": "stdout",
          "text": [
            "This is some text that needs cleaning\n"
          ]
        }
      ]
    }
  ]
}