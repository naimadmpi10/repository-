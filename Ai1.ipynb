{
  "nbformat": 4,
  "nbformat_minor": 0,
  "metadata": {
    "colab": {
      "provenance": [],
      "authorship_tag": "ABX9TyNsj58Ecft6T/B09Erah25g",
      "include_colab_link": true
    },
    "kernelspec": {
      "name": "python3",
      "display_name": "Python 3"
    },
    "language_info": {
      "name": "python"
    }
  },
  "cells": [
    {
      "cell_type": "markdown",
      "metadata": {
        "id": "view-in-github",
        "colab_type": "text"
      },
      "source": [
        "<a href=\"https://colab.research.google.com/github/naimadmpi10/repository-/blob/main/Ai1.ipynb\" target=\"_parent\"><img src=\"https://colab.research.google.com/assets/colab-badge.svg\" alt=\"Open In Colab\"/></a>"
      ]
    },
    {
      "cell_type": "code",
      "execution_count": null,
      "metadata": {
        "id": "HIK9Ugm-ICV6",
        "outputId": "232bc1e1-59cf-4b65-ccf9-6cecd1f9b42f",
        "colab": {
          "base_uri": "https://localhost:8080/",
          "height": 802
        }
      },
      "outputs": [
        {
          "output_type": "stream",
          "name": "stdout",
          "text": [
            "Hello, AI World!\n",
            "80 = A Grade\n",
            "90 = A Grade\n",
            "75 = B Grade\n",
            "85 = A Grade\n",
            "Hello, Tanjim! Welcome to AI.\n",
            "\n",
            "Array:\n",
            " [[10 20 30]\n",
            " [40 50 60]]\n",
            "Shape: (2, 3)\n",
            "Sum: 210\n",
            "Reshaped:\n",
            " [[10 20]\n",
            " [30 40]\n",
            " [50 60]]\n",
            "\n",
            "Student DataFrame:\n",
            "      Name  Math  English  Science\n",
            "0  Tanjim    85       75       89\n",
            "1    Asha    78       82       94\n",
            "2   Rahim    92       88       90\n",
            "\n",
            "With Average:\n",
            "      Name  Math  English  Science    Average\n",
            "0  Tanjim    85       75       89  83.000000\n",
            "1    Asha    78       82       94  84.666667\n",
            "2   Rahim    92       88       90  90.000000\n",
            "\n",
            "Topper:\n",
            "     Name  Math  English  Science  Average\n",
            "2  Rahim    92       88       90     90.0\n"
          ]
        },
        {
          "output_type": "display_data",
          "data": {
            "text/plain": [
              "<Figure size 640x480 with 1 Axes>"
            ],
            "image/png": "[encoded data removed]"
          },
          "metadata": {}
        }
      ],
      "source": [
        "# Phase 1: Programming & Data Handling Starter\n",
        "\n",
        "# Step 1: Python Basics\n",
        "print(\"Hello, AI World!\")\n",
        "\n",
        "# Variables, Data Types\n",
        "name = \"Tanjim\"\n",
        "age = 22\n",
        "height = 5.9\n",
        "passed = True\n",
        "\n",
        "# List, Tuple, Dictionary\n",
        "marks = [80, 90, 75, 85]\n",
        "info = (\"AI\", \"Beginner\")\n",
        "student = {\"name\": name, \"age\": age, \"marks\": marks}\n",
        "\n",
        "# Loop and Condition\n",
        "for mark in marks:\n",
        "    if mark >= 80:\n",
        "        print(mark, \"= A Grade\")\n",
        "    else:\n",
        "        print(mark, \"= B Grade\")\n",
        "\n",
        "# Function\n",
        "def greeting(name):\n",
        "    return f\"Hello, {name}! Welcome to AI.\"\n",
        "\n",
        "print(greeting(\"Tanjim\"))\n",
        "\n",
        "# Step 2: Numpy Basics\n",
        "import numpy as np\n",
        "\n",
        "arr = np.array([[10, 20, 30], [40, 50, 60]])\n",
        "print(\"\\nArray:\\n\", arr)\n",
        "print(\"Shape:\", arr.shape)\n",
        "print(\"Sum:\", np.sum(arr))\n",
        "print(\"Reshaped:\\n\", arr.reshape(3, 2))\n",
        "\n",
        "# Step 3: Pandas Basics\n",
        "import pandas as pd\n",
        "\n",
        "data = {\n",
        "    \"Name\": [\"Tanjim\", \"Asha\", \"Rahim\"],\n",
        "    \"Math\": [85, 78, 92],\n",
        "    \"English\": [75, 82, 88],\n",
        "    \"Science\": [89, 94, 90]\n",
        "}\n",
        "\n",
        "df = pd.DataFrame(data)\n",
        "print(\"\\nStudent DataFrame:\\n\", df)\n",
        "\n",
        "# Average marks\n",
        "df[\"Average\"] = df[[\"Math\", \"English\", \"Science\"]].mean(axis=1)\n",
        "print(\"\\nWith Average:\\n\", df)\n",
        "\n",
        "# Highest scorer\n",
        "topper = df[df[\"Average\"] == df[\"Average\"].max()]\n",
        "print(\"\\nTopper:\\n\", topper)\n",
        "\n",
        "# Step 4: Visualization (Matplotlib)\n",
        "import matplotlib.pyplot as plt\n",
        "\n",
        "plt.bar(df[\"Name\"], df[\"Average\"], color='skyblue')\n",
        "plt.title(\"Student Average Marks\")\n",
        "plt.ylabel(\"Marks\")\n",
        "plt.show()"
      ]
    }
  ]
}