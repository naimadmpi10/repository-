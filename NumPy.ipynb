{
  "nbformat": 4,
  "nbformat_minor": 0,
  "metadata": {
    "colab": {
      "provenance": [],
      "authorship_tag": "ABX9TyMbrPmsgWiVRJkLpJqKzpd2",
      "include_colab_link": true
    },
    "kernelspec": {
      "name": "python3",
      "display_name": "Python 3"
    },
    "language_info": {
      "name": "python"
    }
  },
  "cells": [
    {
      "cell_type": "markdown",
      "metadata": {
        "id": "view-in-github",
        "colab_type": "text"
      },
      "source": [
        "<a href=\"https://colab.research.google.com/github/naimadmpi10/repository-/blob/main/NumPy.ipynb\" target=\"_parent\"><img src=\"https://colab.research.google.com/assets/colab-badge.svg\" alt=\"Open In Colab\"/></a>"
      ]
    },
    {
      "cell_type": "code",
      "execution_count": null,
      "metadata": {
        "colab": {
          "base_uri": "https://localhost:8080/"
        },
        "id": "B2r2Zz3A8nwS",
        "outputId": "8a0cb373-f21b-4f97-fc92-c137ac9b28ab"
      },
      "outputs": [
        {
          "output_type": "stream",
          "name": "stdout",
          "text": [
            "মোট নাম্বার: [270 225 195 270 165]\n",
            "গড় নাম্বার: [90. 75. 65. 90. 55.]\n"
          ]
        }
      ],
      "source": [
        "import numpy as np\n",
        "# ৫ জন ছাত্র, ৩টি বিষয়ের নাম্বার\n",
        "marks = np.array([\n",
        "    [85, 90, 95],\n",
        "    [75, 80, 70],\n",
        "    [60, 65, 70],\n",
        "    [90, 88, 92],\n",
        "    [50, 55, 60]\n",
        "])\n",
        "#মোট নম্বর, গড় নম্বর বের করবে\n",
        "total_marks = np.sum(marks, axis=1)\n",
        "average_marks = np.mean(marks, axis=1)\n",
        "\n",
        "print(\"মোট নাম্বার:\", total_marks)\n",
        "print(\"গড় নাম্বার:\", average_marks)"
      ]
    }
  ]
}